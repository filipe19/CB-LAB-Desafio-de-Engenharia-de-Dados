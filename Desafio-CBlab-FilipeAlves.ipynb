{
 "cells": [
  {
   "cell_type": "markdown",
   "metadata": {},
   "source": [
    "# |**CB LAB**\n",
    "## |Desafio de Engenharia de Dados"
   ]
  },
  {
   "cell_type": "code",
   "execution_count": 1,
   "metadata": {},
   "outputs": [],
   "source": [
    "# Criando um dicionário para armazenar os dados dos produtos e seus respectivos pacotes:\n",
    "produtos = {\n",
    "    \"CI00432\": [(3, 6.99), (5, 8.99)],\n",
    "    \"PO01098\": [(2, 9.95), (5, 16.95), (8, 24.95)],\n",
    "    \"CBF19203\": [(3, 5.95), (5, 9.95), (9, 16.99)]\n",
    "}"
   ]
  },
  {
   "cell_type": "code",
   "execution_count": 2,
   "metadata": {},
   "outputs": [],
   "source": [
    "# Criando uma função para calcular a combinação de pacotes: \n",
    "# A função calcular_pedido recebe um pedido como entrada e retorna uma lista com informações dos pacotes do pedido:\n",
    "def calcular_pedido(pedido):\n",
    "    for item in pedido:\n",
    "        quantidade, codigo = item\n",
    "        pacotes = produtos[codigo]\n",
    "        pacotes.sort(key=lambda x: -x[0])\n",
    "        dp = [0] + [float('inf')] * quantidade\n",
    "        escolha = [0] + [None] * quantidade\n",
    "        for i in range(1, quantidade + 1):\n",
    "            for pacote in pacotes:\n",
    "                if pacote[0] <= i and dp[i-pacote[0]] + 1 < dp[i]:\n",
    "                    dp[i] = dp[i-pacote[0]] + 1\n",
    "                    escolha[i] = pacote\n",
    "        pacotes_usados = []\n",
    "        i = quantidade\n",
    "        while i > 0:\n",
    "            if escolha[i] is not None:\n",
    "                pacotes_usados.append(escolha[i])\n",
    "                i -= escolha[i][0]\n",
    "        custo_total = sum([pacote[1] for pacote in pacotes_usados])\n",
    "        print(f\"{quantidade} {codigo} R${custo_total:.2f};\")\n",
    "        for pacote in set(pacotes_usados):\n",
    "            print(f\"{pacotes_usados.count(pacote)} x {pacote[0]} R${pacote[1]:.2f};\")"
   ]
  },
  {
   "cell_type": "code",
   "execution_count": 3,
   "metadata": {},
   "outputs": [
    {
     "name": "stdout",
     "output_type": "stream",
     "text": [
      "10 CI00432 R$17.98;\n",
      "2 x 5 R$8.99;\n",
      "14 PO01098 R$54.80;\n",
      "1 x 8 R$24.95;\n",
      "3 x 2 R$9.95;\n",
      "13 CBF19203 R$25.85;\n",
      "2 x 5 R$9.95;\n",
      "1 x 3 R$5.95;\n"
     ]
    }
   ],
   "source": [
    "# Testando a função\n",
    "calcular_pedido([(10, \"CI00432\"), (14, \"PO01098\"), (13, \"CBF19203\")])\n",
    "# Saída esperada:\n",
    "# 10 CI00432 $17.98; 2 x 5 $8.99 \n",
    "# 14 PO01098 $54.8; 1 x 8 $24.95; 3 x 2 $9.95\n",
    "# 13 CBF19203 $25.85; 2 x 5 $9.95; 1 x 3 $5.95"
   ]
  },
  {
   "cell_type": "code",
   "execution_count": 8,
   "metadata": {},
   "outputs": [
    {
     "name": "stdout",
     "output_type": "stream",
     "text": [
      "Teste 2\n",
      "15 CI00432 R$26.97;\n",
      "3 x 5 R$8.99;\n",
      "10 PO01098 R$34.90;\n",
      "1 x 8 R$24.95;\n",
      "1 x 2 R$9.95;\n",
      "9 CBF19203 R$16.99;\n",
      "1 x 9 R$16.99;\n"
     ]
    }
   ],
   "source": [
    "# Teste 2\n",
    "print(\"Teste 2\")\n",
    "calcular_pedido([(15, \"CI00432\"), (10, \"PO01098\"), (9, \"CBF19203\")])\n",
    "# Saída esperada:\n",
    "# 15 CI00432 R$26.97; 3 x 5 R$8.99;\n",
    "# 10 PO01098 R$34.90; 1 x 8 R$24.95; 1 x 2 R$9.95;\n",
    "# 9 CBF19203 R$16.99; 1 x 9 R$16.99;"
   ]
  }
 ],
 "metadata": {
  "kernelspec": {
   "display_name": "base",
   "language": "python",
   "name": "python3"
  },
  "language_info": {
   "codemirror_mode": {
    "name": "ipython",
    "version": 3
   },
   "file_extension": ".py",
   "mimetype": "text/x-python",
   "name": "python",
   "nbconvert_exporter": "python",
   "pygments_lexer": "ipython3",
   "version": "3.11.4"
  }
 },
 "nbformat": 4,
 "nbformat_minor": 2
}
